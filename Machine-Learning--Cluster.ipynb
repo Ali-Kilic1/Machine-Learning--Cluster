{
 "cells": [
  {
   "cell_type": "code",
   "execution_count": 16,
   "id": "48baf4c2",
   "metadata": {},
   "outputs": [],
   "source": [
    "from warnings import filterwarnings\n",
    "filterwarnings(\"ignore\")"
   ]
  },
  {
   "cell_type": "code",
   "execution_count": 17,
   "id": "1a81e4a0",
   "metadata": {},
   "outputs": [],
   "source": [
    "import pandas as pd\n",
    "import matplotlib.pyplot as plt\n",
    "import numpy as np"
   ]
  },
  {
   "cell_type": "code",
   "execution_count": 18,
   "id": "d1977d4a",
   "metadata": {
    "scrolled": true
   },
   "outputs": [
    {
     "data": {
      "text/html": [
       "<div>\n",
       "<style scoped>\n",
       "    .dataframe tbody tr th:only-of-type {\n",
       "        vertical-align: middle;\n",
       "    }\n",
       "\n",
       "    .dataframe tbody tr th {\n",
       "        vertical-align: top;\n",
       "    }\n",
       "\n",
       "    .dataframe thead th {\n",
       "        text-align: right;\n",
       "    }\n",
       "</style>\n",
       "<table border=\"1\" class=\"dataframe\">\n",
       "  <thead>\n",
       "    <tr style=\"text-align: right;\">\n",
       "      <th></th>\n",
       "      <th>Age</th>\n",
       "      <th>Income($)</th>\n",
       "    </tr>\n",
       "  </thead>\n",
       "  <tbody>\n",
       "    <tr>\n",
       "      <th>0</th>\n",
       "      <td>27</td>\n",
       "      <td>70000</td>\n",
       "    </tr>\n",
       "    <tr>\n",
       "      <th>1</th>\n",
       "      <td>29</td>\n",
       "      <td>90000</td>\n",
       "    </tr>\n",
       "    <tr>\n",
       "      <th>2</th>\n",
       "      <td>29</td>\n",
       "      <td>61000</td>\n",
       "    </tr>\n",
       "    <tr>\n",
       "      <th>3</th>\n",
       "      <td>28</td>\n",
       "      <td>60000</td>\n",
       "    </tr>\n",
       "    <tr>\n",
       "      <th>4</th>\n",
       "      <td>42</td>\n",
       "      <td>150000</td>\n",
       "    </tr>\n",
       "  </tbody>\n",
       "</table>\n",
       "</div>"
      ],
      "text/plain": [
       "   Age  Income($)\n",
       "0   27      70000\n",
       "1   29      90000\n",
       "2   29      61000\n",
       "3   28      60000\n",
       "4   42     150000"
      ]
     },
     "execution_count": 18,
     "metadata": {},
     "output_type": "execute_result"
    }
   ],
   "source": [
    "data=pd.read_csv(\"income.csv\")#Data'yı hazırladım\n",
    "data.drop(\"Name\",axis=1,inplace=True)\n",
    "data.head()"
   ]
  },
  {
   "cell_type": "code",
   "execution_count": 19,
   "id": "cce3742a",
   "metadata": {},
   "outputs": [
    {
     "data": {
      "image/png": "[encoded data removed]",
      "text/plain": [
       "<Figure size 432x288 with 1 Axes>"
      ]
     },
     "metadata": {
      "needs_background": "light"
     },
     "output_type": "display_data"
    }
   ],
   "source": [
    "#Data'mızın dağılımını inceledim\n",
    "plt.scatter(data.Age,data[\"Income($)\"]);"
   ]
  },
  {
   "cell_type": "markdown",
   "id": "507b585f",
   "metadata": {},
   "source": [
    "# K-Means"
   ]
  },
  {
   "cell_type": "code",
   "execution_count": 20,
   "id": "a70f48ab",
   "metadata": {},
   "outputs": [],
   "source": [
    "#K-Means Algoritması;\n",
    "from sklearn.cluster import KMeans\n",
    "km=KMeans(n_clusters=3)#kaç tane küme olacağını söyledim"
   ]
  },
  {
   "cell_type": "code",
   "execution_count": 21,
   "id": "ce80deab",
   "metadata": {},
   "outputs": [],
   "source": [
    "y_pred=km.fit_predict(data)#Hem uygula hem tahmin et"
   ]
  },
  {
   "cell_type": "code",
   "execution_count": 22,
   "id": "e82b8453",
   "metadata": {},
   "outputs": [
    {
     "data": {
      "text/html": [
       "<div>\n",
       "<style scoped>\n",
       "    .dataframe tbody tr th:only-of-type {\n",
       "        vertical-align: middle;\n",
       "    }\n",
       "\n",
       "    .dataframe tbody tr th {\n",
       "        vertical-align: top;\n",
       "    }\n",
       "\n",
       "    .dataframe thead th {\n",
       "        text-align: right;\n",
       "    }\n",
       "</style>\n",
       "<table border=\"1\" class=\"dataframe\">\n",
       "  <thead>\n",
       "    <tr style=\"text-align: right;\">\n",
       "      <th></th>\n",
       "      <th>Age</th>\n",
       "      <th>Income($)</th>\n",
       "      <th>cluster</th>\n",
       "    </tr>\n",
       "  </thead>\n",
       "  <tbody>\n",
       "    <tr>\n",
       "      <th>0</th>\n",
       "      <td>27</td>\n",
       "      <td>70000</td>\n",
       "      <td>0</td>\n",
       "    </tr>\n",
       "    <tr>\n",
       "      <th>1</th>\n",
       "      <td>29</td>\n",
       "      <td>90000</td>\n",
       "      <td>0</td>\n",
       "    </tr>\n",
       "    <tr>\n",
       "      <th>2</th>\n",
       "      <td>29</td>\n",
       "      <td>61000</td>\n",
       "      <td>2</td>\n",
       "    </tr>\n",
       "    <tr>\n",
       "      <th>3</th>\n",
       "      <td>28</td>\n",
       "      <td>60000</td>\n",
       "      <td>2</td>\n",
       "    </tr>\n",
       "    <tr>\n",
       "      <th>4</th>\n",
       "      <td>42</td>\n",
       "      <td>150000</td>\n",
       "      <td>1</td>\n",
       "    </tr>\n",
       "  </tbody>\n",
       "</table>\n",
       "</div>"
      ],
      "text/plain": [
       "   Age  Income($)  cluster\n",
       "0   27      70000        0\n",
       "1   29      90000        0\n",
       "2   29      61000        2\n",
       "3   28      60000        2\n",
       "4   42     150000        1"
      ]
     },
     "execution_count": 22,
     "metadata": {},
     "output_type": "execute_result"
    }
   ],
   "source": [
    "data[\"cluster\"]=y_pred#Data'da yeni bir sütun oluşturdum ve y_pred değerlerini atadım\n",
    "data.head()"
   ]
  },
  {
   "cell_type": "code",
   "execution_count": 23,
   "id": "dd2c18cf",
   "metadata": {},
   "outputs": [
    {
     "data": {
      "image/png": "[encoded data removed]",
      "text/plain": [
       "<Figure size 432x288 with 1 Axes>"
      ]
     },
     "metadata": {
      "needs_background": "light"
     },
     "output_type": "display_data"
    }
   ],
   "source": [
    "#Oluşan Kümeleri Tablo Halinde Görmek İçin Olşturulan Kodlarım\n",
    "data1=data[data.cluster==0]\n",
    "data2=data[data.cluster==1]\n",
    "data3=data[data.cluster==2]\n",
    "plt.scatter(data1.Age,data1[\"Income($)\"],color=\"red\")\n",
    "plt.scatter(data2.Age,data2[\"Income($)\"],color=\"yellow\")\n",
    "plt.scatter(data3.Age,data3[\"Income($)\"],color=\"blue\")\n",
    "plt.scatter(km.cluster_centers_[:,0],km.cluster_centers_[:,1],color=\"black\",marker=\"*\",label=\"center\")\n",
    "plt.legend;"
   ]
  },
  {
   "cell_type": "code",
   "execution_count": 24,
   "id": "e7178738",
   "metadata": {
    "scrolled": false
   },
   "outputs": [
    {
     "data": {
      "image/png": "[encoded data removed]",
      "text/plain": [
       "<Figure size 432x288 with 1 Axes>"
      ]
     },
     "metadata": {
      "needs_background": "light"
     },
     "output_type": "display_data"
    }
   ],
   "source": [
    "#Elbow Yöntemi:optimum k değerni bulmak için kullandığımız yöntem.Grafikte en büyük kırılma kısmı optimum deger olarak kabul edilir.\n",
    "cap=[]\n",
    "for i in range(1,10):\n",
    "    km=KMeans(n_clusters=i)\n",
    "    km.fit(data)\n",
    "    cap.append(km.inertia_)\n",
    "\n",
    "plt.plot(range(1,10),cap);"
   ]
  },
  {
   "cell_type": "markdown",
   "id": "50cc1ac5",
   "metadata": {},
   "source": [
    "# Agglomerative"
   ]
  },
  {
   "cell_type": "code",
   "execution_count": 27,
   "id": "87e73e4f",
   "metadata": {},
   "outputs": [],
   "source": [
    "x=data.values"
   ]
  },
  {
   "cell_type": "code",
   "execution_count": 32,
   "id": "f0b0799b",
   "metadata": {
    "scrolled": true
   },
   "outputs": [
    {
     "data": {
      "text/plain": [
       "<matplotlib.collections.PathCollection at 0x18a099f13d0>"
      ]
     },
     "execution_count": 32,
     "metadata": {},
     "output_type": "execute_result"
    },
    {
     "data": {
      "image/png": "[encoded data removed]",
      "text/plain": [
       "<Figure size 432x288 with 1 Axes>"
      ]
     },
     "metadata": {
      "needs_background": "light"
     },
     "output_type": "display_data"
    }
   ],
   "source": [
    "#Agglomerative Clustering\n",
    "from sklearn.cluster import AgglomerativeClustering\n",
    "agg=AgglomerativeClustering(n_clusters=3,affinity=\"euclidean\",linkage=\"ward\")\n",
    "y_pred=agg.fit_predict(x)\n",
    "\n",
    "plt.scatter(x[y_pred==0,0],x[y_pred==0,1],color=\"red\")\n",
    "plt.scatter(x[y_pred==1,0],x[y_pred==1,1],color=\"blue\")\n",
    "plt.scatter(x[y_pred==2,0],x[y_pred==2,1],color=\"yellow\")"
   ]
  },
  {
   "cell_type": "code",
   "execution_count": 36,
   "id": "25369a10",
   "metadata": {},
   "outputs": [
    {
     "data": {
      "image/png": "[encoded data removed]",
      "text/plain": [
       "<Figure size 432x288 with 1 Axes>"
      ]
     },
     "metadata": {
      "needs_background": "light"
     },
     "output_type": "display_data"
    }
   ],
   "source": [
    "#Dendropgram\n",
    "import scipy.cluster.hierarchy as sch\n",
    "tabel=sch.dendrogram(sch.linkage(x))"
   ]
  }
 ],
 "metadata": {
  "kernelspec": {
   "display_name": "Python 3 (ipykernel)",
   "language": "python",
   "name": "python3"
  },
  "language_info": {
   "codemirror_mode": {
    "name": "ipython",
    "version": 3
   },
   "file_extension": ".py",
   "mimetype": "text/x-python",
   "name": "python",
   "nbconvert_exporter": "python",
   "pygments_lexer": "ipython3",
   "version": "3.9.12"
  }
 },
 "nbformat": 4,
 "nbformat_minor": 5
}
